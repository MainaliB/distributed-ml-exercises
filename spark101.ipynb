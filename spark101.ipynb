{
 "cells": [
  {
   "cell_type": "code",
   "execution_count": 28,
   "metadata": {},
   "outputs": [],
   "source": [
    "import pyspark\n",
    "\n",
    "import pandas as pd\n",
    "import numpy as np\n",
    "\n",
    "from pydataset import data"
   ]
  },
  {
   "cell_type": "code",
   "execution_count": 29,
   "metadata": {},
   "outputs": [],
   "source": [
    "from pyspark.sql.functions import col, expr"
   ]
  },
  {
   "cell_type": "code",
   "execution_count": 30,
   "metadata": {},
   "outputs": [],
   "source": [
    "# creating our entry point to programmig with Spark\n",
    "\n",
    "spark = pyspark.sql.SparkSession.builder.getOrCreate()"
   ]
  },
  {
   "cell_type": "markdown",
   "metadata": {},
   "source": [
    "1. Create a spark data frame that contains your favorite programming languages.\n",
    "\n",
    "- The name of the column should be language\n",
    "- View the schema of the dataframe\n",
    "- Output the shape of the dataframe\n",
    "- Show the first 5 records in the dataframe\n"
   ]
  },
  {
   "cell_type": "code",
   "execution_count": 31,
   "metadata": {},
   "outputs": [],
   "source": [
    "language_df = spark.createDataFrame(pd.DataFrame({'language': ['python', 'R', 'java','javascript', 'scala', 'c++', 'sas', 'ruby'],\n",
    "                                                  'score': [10,7,6,4,3,5,2,1]}))"
   ]
  },
  {
   "cell_type": "code",
   "execution_count": 32,
   "metadata": {},
   "outputs": [
    {
     "name": "stdout",
     "output_type": "stream",
     "text": [
      "+----------+-----+\n",
      "|  language|score|\n",
      "+----------+-----+\n",
      "|    python|   10|\n",
      "|         R|    7|\n",
      "|      java|    6|\n",
      "|javascript|    4|\n",
      "|     scala|    3|\n",
      "|       c++|    5|\n",
      "|       sas|    2|\n",
      "|      ruby|    1|\n",
      "+----------+-----+\n",
      "\n"
     ]
    }
   ],
   "source": [
    "language_df.show()"
   ]
  },
  {
   "cell_type": "code",
   "execution_count": 33,
   "metadata": {},
   "outputs": [
    {
     "name": "stdout",
     "output_type": "stream",
     "text": [
      "root\n",
      " |-- language: string (nullable = true)\n",
      " |-- score: long (nullable = true)\n",
      "\n"
     ]
    }
   ],
   "source": [
    "language_df.printSchema()"
   ]
  },
  {
   "cell_type": "code",
   "execution_count": 34,
   "metadata": {},
   "outputs": [
    {
     "name": "stdout",
     "output_type": "stream",
     "text": [
      "+-------+--------+------------------+\n",
      "|summary|language|             score|\n",
      "+-------+--------+------------------+\n",
      "|  count|       8|                 8|\n",
      "|   mean|    null|              4.75|\n",
      "| stddev|    null|2.9154759474226504|\n",
      "|    min|       R|                 1|\n",
      "|    max|   scala|                10|\n",
      "+-------+--------+------------------+\n",
      "\n"
     ]
    }
   ],
   "source": [
    "# one way to get the shape of the data. We can see that there are\n",
    "# 8 observations and 2 columns\n",
    "language_df.describe().show()"
   ]
  },
  {
   "cell_type": "code",
   "execution_count": 35,
   "metadata": {},
   "outputs": [
    {
     "data": {
      "text/plain": [
       "8"
      ]
     },
     "execution_count": 35,
     "metadata": {},
     "output_type": "execute_result"
    }
   ],
   "source": [
    "# we can also use another function to get the length of the dataframe\n",
    "language_df.count()"
   ]
  },
  {
   "cell_type": "code",
   "execution_count": 36,
   "metadata": {},
   "outputs": [
    {
     "name": "stdout",
     "output_type": "stream",
     "text": [
      "+----------+-----+\n",
      "|  language|score|\n",
      "+----------+-----+\n",
      "|    python|   10|\n",
      "|         R|    7|\n",
      "|      java|    6|\n",
      "|javascript|    4|\n",
      "|     scala|    3|\n",
      "+----------+-----+\n",
      "only showing top 5 rows\n",
      "\n"
     ]
    }
   ],
   "source": [
    "# lets only see the first five observations\n",
    "\n",
    "language_df.show(5)"
   ]
  },
  {
   "cell_type": "markdown",
   "metadata": {},
   "source": [
    "2. Load the mpg dataset as a spark dataframe.\n",
    "\n",
    "    - Create 1 column of output that contains a message like the one below:\n",
    "\n",
    "        - The 1999 audi a4 has a 4 cylinder engine.\n",
    "    - For each vehicle.\n",
    "\n",
    "        - Transform the trans column so that it only contains either manual or auto.\n",
    "\n"
   ]
  },
  {
   "cell_type": "code",
   "execution_count": 37,
   "metadata": {},
   "outputs": [],
   "source": [
    "mpg = spark.createDataFrame(data('mpg'))"
   ]
  },
  {
   "cell_type": "code",
   "execution_count": 38,
   "metadata": {},
   "outputs": [],
   "source": [
    "from pyspark.sql.functions import when\n",
    "\n"
   ]
  },
  {
   "cell_type": "code",
   "execution_count": 39,
   "metadata": {},
   "outputs": [],
   "source": [
    "from pyspark.sql.functions import lit\n",
    "from pyspark.sql.functions import concat, sum, avg, min, max, count, mean"
   ]
  },
  {
   "cell_type": "code",
   "execution_count": 40,
   "metadata": {},
   "outputs": [
    {
     "name": "stdout",
     "output_type": "stream",
     "text": [
      "+----------------------------------------------------------------------------+\n",
      "|concat(The , year,  , manufacturer,  , model,  , has , cyl, cylinder engine)|\n",
      "+----------------------------------------------------------------------------+\n",
      "|                                                        The 1999 audi a4 ...|\n",
      "+----------------------------------------------------------------------------+\n",
      "only showing top 1 row\n",
      "\n"
     ]
    }
   ],
   "source": [
    "# Create 1 column of output that contains a message like the one below:\n",
    "# The 1999 audi a4 has a 4 cylinder engine.\n",
    "\n",
    "mpg.select(concat(lit('The '), mpg.year, lit(' '), mpg.manufacturer,lit(' '), mpg.model,lit(' '), lit('has '), mpg.cyl, lit('cylinder engine'))).alias('Final').show(1)"
   ]
  },
  {
   "cell_type": "code",
   "execution_count": 41,
   "metadata": {},
   "outputs": [
    {
     "name": "stdout",
     "output_type": "stream",
     "text": [
      "+------------+------------------+-----+----+---+----------+---+---+---+---+-------+\n",
      "|manufacturer|             model|displ|year|cyl|     trans|drv|cty|hwy| fl|  class|\n",
      "+------------+------------------+-----+----+---+----------+---+---+---+---+-------+\n",
      "|        audi|                a4|  1.8|1999|  4|  auto(l5)|  f| 18| 29|  p|compact|\n",
      "|        audi|                a4|  1.8|1999|  4|manual(m5)|  f| 21| 29|  p|compact|\n",
      "|        audi|                a4|  2.0|2008|  4|manual(m6)|  f| 20| 31|  p|compact|\n",
      "|        audi|                a4|  2.0|2008|  4|  auto(av)|  f| 21| 30|  p|compact|\n",
      "|        audi|                a4|  2.8|1999|  6|  auto(l5)|  f| 16| 26|  p|compact|\n",
      "|        audi|                a4|  2.8|1999|  6|manual(m5)|  f| 18| 26|  p|compact|\n",
      "|        audi|                a4|  3.1|2008|  6|  auto(av)|  f| 18| 27|  p|compact|\n",
      "|        audi|        a4 quattro|  1.8|1999|  4|manual(m5)|  4| 18| 26|  p|compact|\n",
      "|        audi|        a4 quattro|  1.8|1999|  4|  auto(l5)|  4| 16| 25|  p|compact|\n",
      "|        audi|        a4 quattro|  2.0|2008|  4|manual(m6)|  4| 20| 28|  p|compact|\n",
      "|        audi|        a4 quattro|  2.0|2008|  4|  auto(s6)|  4| 19| 27|  p|compact|\n",
      "|        audi|        a4 quattro|  2.8|1999|  6|  auto(l5)|  4| 15| 25|  p|compact|\n",
      "|        audi|        a4 quattro|  2.8|1999|  6|manual(m5)|  4| 17| 25|  p|compact|\n",
      "|        audi|        a4 quattro|  3.1|2008|  6|  auto(s6)|  4| 17| 25|  p|compact|\n",
      "|        audi|        a4 quattro|  3.1|2008|  6|manual(m6)|  4| 15| 25|  p|compact|\n",
      "|        audi|        a6 quattro|  2.8|1999|  6|  auto(l5)|  4| 15| 24|  p|midsize|\n",
      "|        audi|        a6 quattro|  3.1|2008|  6|  auto(s6)|  4| 17| 25|  p|midsize|\n",
      "|        audi|        a6 quattro|  4.2|2008|  8|  auto(s6)|  4| 16| 23|  p|midsize|\n",
      "|   chevrolet|c1500 suburban 2wd|  5.3|2008|  8|  auto(l4)|  r| 14| 20|  r|    suv|\n",
      "|   chevrolet|c1500 suburban 2wd|  5.3|2008|  8|  auto(l4)|  r| 11| 15|  e|    suv|\n",
      "+------------+------------------+-----+----+---+----------+---+---+---+---+-------+\n",
      "only showing top 20 rows\n",
      "\n"
     ]
    }
   ],
   "source": [
    "mpg.show()"
   ]
  },
  {
   "cell_type": "code",
   "execution_count": 42,
   "metadata": {},
   "outputs": [],
   "source": [
    "from pyspark.sql.functions import regexp_extract, regexp_replace"
   ]
  },
  {
   "cell_type": "code",
   "execution_count": 43,
   "metadata": {},
   "outputs": [
    {
     "name": "stdout",
     "output_type": "stream",
     "text": [
      "+------------+------------------+-----+----+---+----------+------------+---+---+---+---+-------+\n",
      "|manufacturer|             model|displ|year|cyl|     trans|transmission|drv|cty|hwy| fl|  class|\n",
      "+------------+------------------+-----+----+---+----------+------------+---+---+---+---+-------+\n",
      "|        audi|                a4|  1.8|1999|  4|  auto(l5)|        auto|  f| 18| 29|  p|compact|\n",
      "|        audi|                a4|  1.8|1999|  4|manual(m5)|      manual|  f| 21| 29|  p|compact|\n",
      "|        audi|                a4|  2.0|2008|  4|manual(m6)|      manual|  f| 20| 31|  p|compact|\n",
      "|        audi|                a4|  2.0|2008|  4|  auto(av)|        auto|  f| 21| 30|  p|compact|\n",
      "|        audi|                a4|  2.8|1999|  6|  auto(l5)|        auto|  f| 16| 26|  p|compact|\n",
      "|        audi|                a4|  2.8|1999|  6|manual(m5)|      manual|  f| 18| 26|  p|compact|\n",
      "|        audi|                a4|  3.1|2008|  6|  auto(av)|        auto|  f| 18| 27|  p|compact|\n",
      "|        audi|        a4 quattro|  1.8|1999|  4|manual(m5)|      manual|  4| 18| 26|  p|compact|\n",
      "|        audi|        a4 quattro|  1.8|1999|  4|  auto(l5)|        auto|  4| 16| 25|  p|compact|\n",
      "|        audi|        a4 quattro|  2.0|2008|  4|manual(m6)|      manual|  4| 20| 28|  p|compact|\n",
      "|        audi|        a4 quattro|  2.0|2008|  4|  auto(s6)|        auto|  4| 19| 27|  p|compact|\n",
      "|        audi|        a4 quattro|  2.8|1999|  6|  auto(l5)|        auto|  4| 15| 25|  p|compact|\n",
      "|        audi|        a4 quattro|  2.8|1999|  6|manual(m5)|      manual|  4| 17| 25|  p|compact|\n",
      "|        audi|        a4 quattro|  3.1|2008|  6|  auto(s6)|        auto|  4| 17| 25|  p|compact|\n",
      "|        audi|        a4 quattro|  3.1|2008|  6|manual(m6)|      manual|  4| 15| 25|  p|compact|\n",
      "|        audi|        a6 quattro|  2.8|1999|  6|  auto(l5)|        auto|  4| 15| 24|  p|midsize|\n",
      "|        audi|        a6 quattro|  3.1|2008|  6|  auto(s6)|        auto|  4| 17| 25|  p|midsize|\n",
      "|        audi|        a6 quattro|  4.2|2008|  8|  auto(s6)|        auto|  4| 16| 23|  p|midsize|\n",
      "|   chevrolet|c1500 suburban 2wd|  5.3|2008|  8|  auto(l4)|        auto|  r| 14| 20|  r|    suv|\n",
      "|   chevrolet|c1500 suburban 2wd|  5.3|2008|  8|  auto(l4)|        auto|  r| 11| 15|  e|    suv|\n",
      "+------------+------------------+-----+----+---+----------+------------+---+---+---+---+-------+\n",
      "only showing top 20 rows\n",
      "\n"
     ]
    }
   ],
   "source": [
    "#For each vehicle.\n",
    "\n",
    "# Transform the trans column so that it only contains either manual or auto.\n",
    "\n",
    "mpg.select( 'manufacturer', 'model', 'displ', 'year', 'cyl', 'trans', regexp_extract('trans', r\"(\\w+)\", 1)\\\n",
    "           .alias('transmission'), 'drv', 'cty', 'hwy', 'fl', 'class').show()"
   ]
  },
  {
   "cell_type": "markdown",
   "metadata": {},
   "source": [
    "3. Load the tips dataset as a spark dataframe.\n",
    "\n",
    "    - What percentage of observations are smokers?\n",
    "    - Create a column that contains the tip percentage\n",
    "    - Calculate the average tip percentage for each combination of sex and smoker."
   ]
  },
  {
   "cell_type": "code",
   "execution_count": 44,
   "metadata": {},
   "outputs": [],
   "source": [
    "tips = spark.createDataFrame(data('tips'))"
   ]
  },
  {
   "cell_type": "code",
   "execution_count": 45,
   "metadata": {},
   "outputs": [
    {
     "name": "stdout",
     "output_type": "stream",
     "text": [
      "+----------+----+------+------+---+------+----+\n",
      "|total_bill| tip|   sex|smoker|day|  time|size|\n",
      "+----------+----+------+------+---+------+----+\n",
      "|     16.99|1.01|Female|    No|Sun|Dinner|   2|\n",
      "|     10.34|1.66|  Male|    No|Sun|Dinner|   3|\n",
      "|     21.01| 3.5|  Male|    No|Sun|Dinner|   3|\n",
      "|     23.68|3.31|  Male|    No|Sun|Dinner|   2|\n",
      "|     24.59|3.61|Female|    No|Sun|Dinner|   4|\n",
      "|     25.29|4.71|  Male|    No|Sun|Dinner|   4|\n",
      "|      8.77| 2.0|  Male|    No|Sun|Dinner|   2|\n",
      "|     26.88|3.12|  Male|    No|Sun|Dinner|   4|\n",
      "|     15.04|1.96|  Male|    No|Sun|Dinner|   2|\n",
      "|     14.78|3.23|  Male|    No|Sun|Dinner|   2|\n",
      "|     10.27|1.71|  Male|    No|Sun|Dinner|   2|\n",
      "|     35.26| 5.0|Female|    No|Sun|Dinner|   4|\n",
      "|     15.42|1.57|  Male|    No|Sun|Dinner|   2|\n",
      "|     18.43| 3.0|  Male|    No|Sun|Dinner|   4|\n",
      "|     14.83|3.02|Female|    No|Sun|Dinner|   2|\n",
      "|     21.58|3.92|  Male|    No|Sun|Dinner|   2|\n",
      "|     10.33|1.67|Female|    No|Sun|Dinner|   3|\n",
      "|     16.29|3.71|  Male|    No|Sun|Dinner|   3|\n",
      "|     16.97| 3.5|Female|    No|Sun|Dinner|   3|\n",
      "|     20.65|3.35|  Male|    No|Sat|Dinner|   3|\n",
      "+----------+----+------+------+---+------+----+\n",
      "only showing top 20 rows\n",
      "\n"
     ]
    }
   ],
   "source": [
    "tips.show()"
   ]
  },
  {
   "cell_type": "code",
   "execution_count": 46,
   "metadata": {},
   "outputs": [
    {
     "data": {
      "text/plain": [
       "38.114754098360656"
      ]
     },
     "execution_count": 46,
     "metadata": {},
     "output_type": "execute_result"
    }
   ],
   "source": [
    "# percentage of smoker \n",
    "\n",
    "(tips.filter(tips.smoker == 'Yes').count()/tips.count()) * 100"
   ]
  },
  {
   "cell_type": "code",
   "execution_count": 47,
   "metadata": {},
   "outputs": [
    {
     "name": "stdout",
     "output_type": "stream",
     "text": [
      "+----------+----+------+------+---+------+----+------------------+\n",
      "|total_bill| tip|   sex|smoker|day|  time|size|    tip_percentage|\n",
      "+----------+----+------+------+---+------+----+------------------+\n",
      "|     16.99|1.01|Female|    No|Sun|Dinner|   2|5.9446733372572105|\n",
      "|     10.34|1.66|  Male|    No|Sun|Dinner|   3|16.054158607350097|\n",
      "|     21.01| 3.5|  Male|    No|Sun|Dinner|   3|16.658733936220845|\n",
      "|     23.68|3.31|  Male|    No|Sun|Dinner|   2| 13.97804054054054|\n",
      "|     24.59|3.61|Female|    No|Sun|Dinner|   4|14.680764538430255|\n",
      "|     25.29|4.71|  Male|    No|Sun|Dinner|   4| 18.62396204033215|\n",
      "|      8.77| 2.0|  Male|    No|Sun|Dinner|   2| 22.80501710376283|\n",
      "|     26.88|3.12|  Male|    No|Sun|Dinner|   4|11.607142857142858|\n",
      "|     15.04|1.96|  Male|    No|Sun|Dinner|   2|13.031914893617023|\n",
      "|     14.78|3.23|  Male|    No|Sun|Dinner|   2|21.853856562922868|\n",
      "|     10.27|1.71|  Male|    No|Sun|Dinner|   2| 16.65043816942551|\n",
      "|     35.26| 5.0|Female|    No|Sun|Dinner|   4|14.180374361883155|\n",
      "|     15.42|1.57|  Male|    No|Sun|Dinner|   2|10.181582360570687|\n",
      "|     18.43| 3.0|  Male|    No|Sun|Dinner|   4|16.277807921866522|\n",
      "|     14.83|3.02|Female|    No|Sun|Dinner|   2|20.364126770060686|\n",
      "|     21.58|3.92|  Male|    No|Sun|Dinner|   2|18.164967562557923|\n",
      "|     10.33|1.67|Female|    No|Sun|Dinner|   3| 16.16650532429816|\n",
      "|     16.29|3.71|  Male|    No|Sun|Dinner|   3|22.774708410067525|\n",
      "|     16.97| 3.5|Female|    No|Sun|Dinner|   3|20.624631703005306|\n",
      "|     20.65|3.35|  Male|    No|Sat|Dinner|   3|16.222760290556902|\n",
      "+----------+----+------+------+---+------+----+------------------+\n",
      "only showing top 20 rows\n",
      "\n"
     ]
    }
   ],
   "source": [
    "# creating a separate column for tip percentage\n",
    "\n",
    "tips.select('total_bill', 'tip', 'sex','smoker', 'day','time','size', expr('(tip/total_bill)*100').alias('tip_percentage')).show()"
   ]
  },
  {
   "cell_type": "code",
   "execution_count": 48,
   "metadata": {},
   "outputs": [
    {
     "name": "stdout",
     "output_type": "stream",
     "text": [
      "+------+------+-------------------+\n",
      "|   sex|smoker|avg(tip_percentage)|\n",
      "+------+------+-------------------+\n",
      "|  Male|    No|  16.06687151291298|\n",
      "|  Male|   Yes| 15.277117520248513|\n",
      "|Female|    No| 15.692097076918358|\n",
      "|Female|   Yes|  18.21503526994103|\n",
      "+------+------+-------------------+\n",
      "\n"
     ]
    }
   ],
   "source": [
    "# calculating the average tip percentage for each combination of sex and smoker\n",
    "\n",
    "tips.select('sex', 'smoker', expr('(tip/total_bill)*100').alias('tip_percentage')).groupBy('sex', 'smoker')\\\n",
    ".mean('tip_percentage').show()"
   ]
  },
  {
   "cell_type": "markdown",
   "metadata": {},
   "source": [
    "4. Use the seattle weather dataset referenced in the lesson to answer the questions below.\n",
    "\n",
    "    - Convert the temperatures to farenheight.\n",
    "    - Which month has the most rain, on average?\n",
    "    - Which year was the windiest?\n",
    "    - What is the most frequent type of weather in January?\n",
    "    - What is the average high and low temperature on sunny days in July in 2013 and 2014?\n",
    "    - What percentage of days were rainy in q3 of 2015?\n",
    "    - For each year, find what percentage of days it rained (had non-zero precipitation)."
   ]
  },
  {
   "cell_type": "code",
   "execution_count": 49,
   "metadata": {},
   "outputs": [],
   "source": [
    "from vega_datasets import data"
   ]
  },
  {
   "cell_type": "code",
   "execution_count": 50,
   "metadata": {},
   "outputs": [],
   "source": [
    "# creating a spark dataframe\n",
    "seattle = spark.createDataFrame(data('seattle_weather'))"
   ]
  },
  {
   "cell_type": "code",
   "execution_count": 51,
   "metadata": {},
   "outputs": [
    {
     "name": "stdout",
     "output_type": "stream",
     "text": [
      "+-------------------+-------------+--------+--------+----+-------+\n",
      "|               date|precipitation|temp_max|temp_min|wind|weather|\n",
      "+-------------------+-------------+--------+--------+----+-------+\n",
      "|2012-01-01 00:00:00|          0.0|    12.8|     5.0| 4.7|drizzle|\n",
      "|2012-01-02 00:00:00|         10.9|    10.6|     2.8| 4.5|   rain|\n",
      "|2012-01-03 00:00:00|          0.8|    11.7|     7.2| 2.3|   rain|\n",
      "|2012-01-04 00:00:00|         20.3|    12.2|     5.6| 4.7|   rain|\n",
      "|2012-01-05 00:00:00|          1.3|     8.9|     2.8| 6.1|   rain|\n",
      "|2012-01-06 00:00:00|          2.5|     4.4|     2.2| 2.2|   rain|\n",
      "|2012-01-07 00:00:00|          0.0|     7.2|     2.8| 2.3|   rain|\n",
      "|2012-01-08 00:00:00|          0.0|    10.0|     2.8| 2.0|    sun|\n",
      "|2012-01-09 00:00:00|          4.3|     9.4|     5.0| 3.4|   rain|\n",
      "|2012-01-10 00:00:00|          1.0|     6.1|     0.6| 3.4|   rain|\n",
      "|2012-01-11 00:00:00|          0.0|     6.1|    -1.1| 5.1|    sun|\n",
      "|2012-01-12 00:00:00|          0.0|     6.1|    -1.7| 1.9|    sun|\n",
      "|2012-01-13 00:00:00|          0.0|     5.0|    -2.8| 1.3|    sun|\n",
      "|2012-01-14 00:00:00|          4.1|     4.4|     0.6| 5.3|   snow|\n",
      "|2012-01-15 00:00:00|          5.3|     1.1|    -3.3| 3.2|   snow|\n",
      "|2012-01-16 00:00:00|          2.5|     1.7|    -2.8| 5.0|   snow|\n",
      "|2012-01-17 00:00:00|          8.1|     3.3|     0.0| 5.6|   snow|\n",
      "|2012-01-18 00:00:00|         19.8|     0.0|    -2.8| 5.0|   snow|\n",
      "|2012-01-19 00:00:00|         15.2|    -1.1|    -2.8| 1.6|   snow|\n",
      "|2012-01-20 00:00:00|         13.5|     7.2|    -1.1| 2.3|   snow|\n",
      "+-------------------+-------------+--------+--------+----+-------+\n",
      "only showing top 20 rows\n",
      "\n"
     ]
    }
   ],
   "source": [
    "# taking a peek at the data\n",
    "seattle.show()"
   ]
  },
  {
   "cell_type": "code",
   "execution_count": 52,
   "metadata": {},
   "outputs": [],
   "source": [
    "import pyspark.sql.functions as f"
   ]
  },
  {
   "cell_type": "code",
   "execution_count": 53,
   "metadata": {},
   "outputs": [
    {
     "name": "stdout",
     "output_type": "stream",
     "text": [
      "+-------------------+-------------+----------+----------+\n",
      "|               date|precipitation|max_temp_F|min_temp_F|\n",
      "+-------------------+-------------+----------+----------+\n",
      "|2012-01-01 00:00:00|          0.0|      55.0|      41.0|\n",
      "|2012-01-02 00:00:00|         10.9|      51.0|      37.0|\n",
      "|2012-01-03 00:00:00|          0.8|      53.0|      45.0|\n",
      "|2012-01-04 00:00:00|         20.3|      54.0|      42.0|\n",
      "|2012-01-05 00:00:00|          1.3|      48.0|      37.0|\n",
      "|2012-01-06 00:00:00|          2.5|      40.0|      36.0|\n",
      "|2012-01-07 00:00:00|          0.0|      45.0|      37.0|\n",
      "|2012-01-08 00:00:00|          0.0|      50.0|      37.0|\n",
      "|2012-01-09 00:00:00|          4.3|      49.0|      41.0|\n",
      "|2012-01-10 00:00:00|          1.0|      43.0|      33.0|\n",
      "|2012-01-11 00:00:00|          0.0|      43.0|      30.0|\n",
      "|2012-01-12 00:00:00|          0.0|      43.0|      29.0|\n",
      "|2012-01-13 00:00:00|          0.0|      41.0|      27.0|\n",
      "|2012-01-14 00:00:00|          4.1|      40.0|      33.0|\n",
      "|2012-01-15 00:00:00|          5.3|      34.0|      26.0|\n",
      "|2012-01-16 00:00:00|          2.5|      35.0|      27.0|\n",
      "|2012-01-17 00:00:00|          8.1|      38.0|      32.0|\n",
      "|2012-01-18 00:00:00|         19.8|      32.0|      27.0|\n",
      "|2012-01-19 00:00:00|         15.2|      30.0|      27.0|\n",
      "|2012-01-20 00:00:00|         13.5|      45.0|      30.0|\n",
      "+-------------------+-------------+----------+----------+\n",
      "only showing top 20 rows\n",
      "\n"
     ]
    }
   ],
   "source": [
    "# converting the temperatures to fahrenheit\n",
    "\n",
    "seattle.select('date', 'precipitation', expr('ROUND(temp_max * 1.8 + 32)').alias('max_temp_F'),\\\n",
    "               expr('ROUND(temp_min * 1.8 + 32)').alias('min_temp_F')).show()"
   ]
  },
  {
   "cell_type": "code",
   "execution_count": 59,
   "metadata": {},
   "outputs": [
    {
     "name": "stdout",
     "output_type": "stream",
     "text": [
      "+-----+-------------------------+\n",
      "|month|average_rainfall_by_month|\n",
      "+-----+-------------------------+\n",
      "|   11|        5.354166666666667|\n",
      "+-----+-------------------------+\n",
      "only showing top 1 row\n",
      "\n"
     ]
    }
   ],
   "source": [
    "# which month has most rain on average?\n",
    "\n",
    "seattle.withColumn('month', f.month('date')).groupBy('month').agg(avg('precipitation').alias('average_rainfall_by_month'))\\\n",
    ".sort(f.desc('average_rainfall_by_month'))\\\n",
    ".show(1)"
   ]
  },
  {
   "cell_type": "code",
   "execution_count": 60,
   "metadata": {},
   "outputs": [
    {
     "name": "stdout",
     "output_type": "stream",
     "text": [
      "+----+--------------------+\n",
      "|year|average_wind_by_year|\n",
      "+----+--------------------+\n",
      "|2012|   3.400819672131147|\n",
      "+----+--------------------+\n",
      "only showing top 1 row\n",
      "\n"
     ]
    }
   ],
   "source": [
    "#Which year was the windiest?\n",
    "\n",
    "seattle.withColumn('year', f.year('date')).groupBy('year').agg(avg('wind').alias('average_wind_by_year'))\\\n",
    ".sort(f.desc('average_wind_by_year'))\\\n",
    ".show(1)"
   ]
  },
  {
   "cell_type": "code",
   "execution_count": 61,
   "metadata": {},
   "outputs": [
    {
     "name": "stdout",
     "output_type": "stream",
     "text": [
      "+-------+-----+\n",
      "|weather|count|\n",
      "+-------+-----+\n",
      "|    fog|   38|\n",
      "+-------+-----+\n",
      "only showing top 1 row\n",
      "\n"
     ]
    }
   ],
   "source": [
    "#What is the most frequent type of weather in January\n",
    "\n",
    "seattle.filter(f.month('date')==1).groupBy('weather').count().sort(f.desc('count')).show(1)"
   ]
  },
  {
   "cell_type": "code",
   "execution_count": 116,
   "metadata": {},
   "outputs": [
    {
     "name": "stdout",
     "output_type": "stream",
     "text": [
      "+------------------+-----------------+\n",
      "|     avg(temp_max)|    avg(temp_min)|\n",
      "+------------------+-----------------+\n",
      "|26.828846153846158|14.18269230769231|\n",
      "+------------------+-----------------+\n",
      "\n"
     ]
    }
   ],
   "source": [
    "#What is the average high and low temperature on sunny days in July in 2013 and 2014?\n",
    "\n",
    "seattle.where((f.month('date') == 7) & (seattle.weather == 'sun') & ((f.year('date') == 2013) | (f.year('date') == 2014))).\\\n",
    "agg(f.mean('temp_max'), f.mean('temp_min')).show()\n"
   ]
  },
  {
   "cell_type": "code",
   "execution_count": 107,
   "metadata": {},
   "outputs": [
    {
     "name": "stdout",
     "output_type": "stream",
     "text": [
      "+-------------------+--------+--------+-------+--------+\n",
      "|               date|temp_min|temp_max|weather|temp_dif|\n",
      "+-------------------+--------+--------+-------+--------+\n",
      "|2013-07-01 00:00:00|    18.3|    31.7|    sun|    13.0|\n",
      "|2013-07-02 00:00:00|    15.6|    28.3|    sun|    13.0|\n",
      "|2013-07-03 00:00:00|    16.7|    26.1|    sun|     9.0|\n",
      "|2013-07-05 00:00:00|    13.9|    23.3|    sun|     9.0|\n",
      "|2013-07-06 00:00:00|    13.3|    26.1|    sun|    13.0|\n",
      "|2013-07-07 00:00:00|    13.9|    23.9|    sun|    10.0|\n",
      "|2013-07-08 00:00:00|    13.3|    26.7|    sun|    13.0|\n",
      "|2013-07-09 00:00:00|    15.0|    30.0|    sun|    15.0|\n",
      "|2013-07-10 00:00:00|    13.9|    22.2|    sun|     8.0|\n",
      "|2013-07-11 00:00:00|    12.2|    22.8|    sun|    11.0|\n",
      "|2013-07-12 00:00:00|    13.3|    19.4|    sun|     6.0|\n",
      "|2013-07-13 00:00:00|    11.1|    26.1|    sun|    15.0|\n",
      "|2013-07-14 00:00:00|    12.8|    27.8|    sun|    15.0|\n",
      "|2013-07-15 00:00:00|    14.4|    27.8|    sun|    13.0|\n",
      "|2013-07-16 00:00:00|    18.3|    31.1|    sun|    13.0|\n",
      "|2013-07-18 00:00:00|    13.9|    26.1|    sun|    12.0|\n",
      "|2013-07-19 00:00:00|    13.3|    27.8|    sun|    15.0|\n",
      "|2013-07-20 00:00:00|    13.3|    25.0|    sun|    12.0|\n",
      "|2013-07-21 00:00:00|    12.8|    23.9|    sun|    11.0|\n",
      "|2013-07-23 00:00:00|    13.9|    31.1|    sun|    17.0|\n",
      "+-------------------+--------+--------+-------+--------+\n",
      "only showing top 20 rows\n",
      "\n"
     ]
    }
   ],
   "source": [
    "# getting the temperature difference for every sunny days in July of 2013 and 2014\n",
    "\n",
    "seattle.where((f.month('date') == 7) & (seattle.weather == 'sun') & ((f.year('date') == 2013) | (f.year('date') == 2014))).\\\n",
    "select('date','temp_min', 'temp_max', 'weather',expr('ROUND(temp_max - temp_min)').alias('temp_dif')).show()\n"
   ]
  }
 ],
 "metadata": {
  "kernelspec": {
   "display_name": "Python 3",
   "language": "python",
   "name": "python3"
  },
  "language_info": {
   "codemirror_mode": {
    "name": "ipython",
    "version": 3
   },
   "file_extension": ".py",
   "mimetype": "text/x-python",
   "name": "python",
   "nbconvert_exporter": "python",
   "pygments_lexer": "ipython3",
   "version": "3.7.6"
  }
 },
 "nbformat": 4,
 "nbformat_minor": 4
}
