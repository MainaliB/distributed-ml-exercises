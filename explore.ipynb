{
 "cells": [
  {
   "cell_type": "code",
   "execution_count": 17,
   "metadata": {},
   "outputs": [],
   "source": [
    "import pyspark.sql\n",
    "from pyspark.sql.functions import *"
   ]
  },
  {
   "cell_type": "code",
   "execution_count": 18,
   "metadata": {},
   "outputs": [],
   "source": [
    "# firing up our spark session\n",
    "\n",
    "spark = pyspark.sql.SparkSession.builder.getOrCreate()"
   ]
  },
  {
   "cell_type": "markdown",
   "metadata": {},
   "source": [
    "**Getting all the data prep done before exploring**"
   ]
  },
  {
   "cell_type": "code",
   "execution_count": 19,
   "metadata": {},
   "outputs": [],
   "source": [
    "# reading the case data\n",
    "case_df = spark.read.csv('case.csv', header = True, inferSchema = True)\n",
    "\n",
    "# reading the department data\n",
    "department_df = spark.read.csv('dept.csv', header = True, inferSchema = True)\n",
    "\n",
    "\n",
    "# reading the source data\n",
    "source_df = spark.read.csv('source.csv', header = True, inferSchema = True)"
   ]
  },
  {
   "cell_type": "code",
   "execution_count": 20,
   "metadata": {},
   "outputs": [],
   "source": [
    "# to rename a column use the withColumnRenamed(col_to_rename, new_name)\n",
    "\n",
    "case_df = case_df.withColumnRenamed( 'SLA_due_date', 'case_due_date')"
   ]
  },
  {
   "cell_type": "code",
   "execution_count": 21,
   "metadata": {},
   "outputs": [],
   "source": [
    "# lets change the case late and case closed to boolean\n",
    "\n",
    "case_df = case_df.withColumn(\"case_late\", expr(\"case_late == 'YES'\"))\n",
    "\n",
    "case_df = case_df.withColumn(\"case_closed\", expr(\"case_closed == 'YES'\"))"
   ]
  },
  {
   "cell_type": "code",
   "execution_count": 22,
   "metadata": {},
   "outputs": [],
   "source": [
    "# lets change the date time format\n",
    "fmt = \"M/d/yy H:mm\"\n",
    "\n",
    "case_df = case_df.withColumn(\"case_opened_date\", to_timestamp(\"case_opened_date\", fmt))\n",
    "case_df = case_df.withColumn(\"case_closed_date\", to_timestamp(\"case_closed_date\", fmt))\n",
    "case_df = case_df.withColumn(\"case_due_date\", to_timestamp(\"case_due_date\", fmt))"
   ]
  },
  {
   "cell_type": "code",
   "execution_count": 23,
   "metadata": {},
   "outputs": [],
   "source": [
    "\n",
    "# formatting the address column\n",
    "case_df=case_df.withColumn('request_address', lower(trim('request_address')))"
   ]
  },
  {
   "cell_type": "code",
   "execution_count": 24,
   "metadata": {},
   "outputs": [],
   "source": [
    "# lets create a new column to hold the zipcode only\n",
    "\n",
    "case_df = case_df.withColumn('zip_code', regexp_extract('request_address', r\"(\\d+)$\", 1))"
   ]
  },
  {
   "cell_type": "code",
   "execution_count": 25,
   "metadata": {},
   "outputs": [],
   "source": [
    "\n",
    "# format the council district to hold 3 digits with padding\n",
    "case_df = case_df.withColumn(\"council_district\", format_string(\"%03d\", col(\"council_district\")))\n"
   ]
  },
  {
   "cell_type": "code",
   "execution_count": 26,
   "metadata": {},
   "outputs": [],
   "source": [
    "\n",
    "max_date = case_df.select(max(col('case_opened_date'))).first()[0]\n",
    "\n",
    "max_date = max_date.strftime('%Y-%m-%d %H:%M:%S')\n",
    "\n",
    "case_df = (\n",
    "    case_df.withColumn('case_age', datediff(lit(max_date), 'case_opened_date'))\n",
    "    .withColumn('days_to_closed', datediff('case_closed_date', 'case_opened_date'))\n",
    "    .withColumn('case_lifetime', when(col('case_closed'), col('days_to_closed')).otherwise(col('case_age')))\n",
    "    \n",
    ")"
   ]
  },
  {
   "cell_type": "code",
   "execution_count": 27,
   "metadata": {},
   "outputs": [],
   "source": [
    "case_df = case_df.join(department_df,'dept_division', 'left' )"
   ]
  },
  {
   "cell_type": "code",
   "execution_count": 28,
   "metadata": {},
   "outputs": [],
   "source": [
    "case_df = case_df.join(source_df, 'source_id', 'left')"
   ]
  },
  {
   "cell_type": "markdown",
   "metadata": {},
   "source": [
    "## Exploration"
   ]
  },
  {
   "cell_type": "code",
   "execution_count": 29,
   "metadata": {},
   "outputs": [],
   "source": [
    "import warnings\n",
    "\n",
    "warnings.filterwarnings(\"ignore\")\n",
    "\n",
    "import numpy as np\n",
    "import pandas as pd\n",
    "\n",
    "import matplotlib.pyplot as plt\n",
    "import seaborn as sns"
   ]
  },
  {
   "cell_type": "code",
   "execution_count": 30,
   "metadata": {},
   "outputs": [
    {
     "name": "stdout",
     "output_type": "stream",
     "text": [
      "-RECORD 0--------------------------------------\n",
      " source_id              | svcCRMLS             \n",
      " dept_division          | Field Operations     \n",
      " case_id                | 1014127332           \n",
      " case_opened_date       | 2018-01-01 00:42:00  \n",
      " case_closed_date       | 2018-01-01 12:29:00  \n",
      " case_due_date          | 2020-09-26 00:42:00  \n",
      " case_late              | false                \n",
      " num_days_late          | -998.5087616000001   \n",
      " case_closed            | true                 \n",
      " service_request_type   | Stray Animal         \n",
      " SLA_days               | 999.0                \n",
      " case_status            | Closed               \n",
      " request_address        | 2315  el paso st,... \n",
      " council_district       | 005                  \n",
      " zip_code               | 78207                \n",
      " case_age               | 219                  \n",
      " days_to_closed         | 0                    \n",
      " case_lifetime          | 0                    \n",
      " dept_name              | Animal Care Services \n",
      " standardized_dept_name | Animal Care Services \n",
      " dept_subject_to_SLA    | YES                  \n",
      " source_username        | svcCRMLS             \n",
      "only showing top 1 row\n",
      "\n"
     ]
    }
   ],
   "source": [
    "case_df.show(1, vertical = True)"
   ]
  },
  {
   "cell_type": "code",
   "execution_count": 31,
   "metadata": {},
   "outputs": [
    {
     "name": "stdout",
     "output_type": "stream",
     "text": [
      "+-----------+------+\n",
      "|case_status| count|\n",
      "+-----------+------+\n",
      "|       Open| 18333|\n",
      "|     Closed|836936|\n",
      "+-----------+------+\n",
      "\n"
     ]
    }
   ],
   "source": [
    "#lets get the count of the case status\n",
    "case_df.groupBy('case_status').count().show()"
   ]
  },
  {
   "cell_type": "code",
   "execution_count": 32,
   "metadata": {},
   "outputs": [
    {
     "name": "stdout",
     "output_type": "stream",
     "text": [
      "+-----------+------------------+\n",
      "|case_status|avg(case_lifetime)|\n",
      "+-----------+------------------+\n",
      "|       Open|  82.6931216931217|\n",
      "|     Closed| 9.064550933404705|\n",
      "+-----------+------------------+\n",
      "\n"
     ]
    }
   ],
   "source": [
    "# lets check the average time the case is open\n",
    "\n",
    "case_df.groupBy('case_status').agg(mean('case_lifetime')).show()"
   ]
  },
  {
   "cell_type": "code",
   "execution_count": 41,
   "metadata": {},
   "outputs": [
    {
     "data": {
      "text/plain": [
       "Text(0.5, 0, 'Number of cases')"
      ]
     },
     "execution_count": 41,
     "metadata": {},
     "output_type": "execute_result"
    },
    {
     "data": {
      "image/png": "[encoded data removed]",
      "text/plain": [
       "<Figure size 432x288 with 1 Axes>"
      ]
     },
     "metadata": {
      "needs_background": "light"
     },
     "output_type": "display_data"
    }
   ],
   "source": [
    "# lets check the number of cases for each department\n",
    "(case_df.groupBy('standardized_dept_name').count()\n",
    "# we ca convert it to pandas\n",
    ".toPandas()\n",
    ".set_index('standardized_dept_name')['count']\n",
    ".sort_values(ascending = False)\n",
    ".plot.barh())\n",
    "\n",
    "plt.title(\"Number of Cases by deparmtnet\")\n",
    "plt.ylabel('')\n",
    "plt.xlabel('Number of cases')"
   ]
  },
  {
   "cell_type": "code",
   "execution_count": 44,
   "metadata": {},
   "outputs": [
    {
     "data": {
      "text/plain": [
       "Text(0.5, 0, 'Average case lifetime')"
      ]
     },
     "execution_count": 44,
     "metadata": {},
     "output_type": "execute_result"
    },
    {
     "data": {
      "image/png": "[encoded data removed]",
      "text/plain": [
       "<Figure size 432x288 with 1 Axes>"
      ]
     },
     "metadata": {
      "needs_background": "light"
     },
     "output_type": "display_data"
    }
   ],
   "source": [
    "# lets check the caselifetime for each department\n",
    "\n",
    "# lets first aggregate using spark\n",
    "\n",
    "(case_df.groupBy('standardized_dept_name')\n",
    ".agg(mean('case_lifetime').alias('avg_case_lifetime'))\n",
    ".toPandas()\n",
    " .set_index('standardized_dept_name')['avg_case_lifetime']\n",
    " .sort_values(ascending = False)\n",
    " .plot.barh()\n",
    ")\n",
    "plt.title('Avg case lifetime for each department')\n",
    "plt.ylabel('')\n",
    "plt.xlabel('Average case lifetime')"
   ]
  },
  {
   "cell_type": "code",
   "execution_count": 62,
   "metadata": {},
   "outputs": [
    {
     "data": {
      "text/plain": [
       "<AxesSubplot:ylabel='standardized_dept_name'>"
      ]
     },
     "execution_count": 62,
     "metadata": {},
     "output_type": "execute_result"
    },
    {
     "data": {
      "image/png": "[encoded data removed]",
      "text/plain": [
       "<Figure size 432x288 with 1 Axes>"
      ]
     },
     "metadata": {
      "needs_background": "light"
     },
     "output_type": "display_data"
    }
   ],
   "source": [
    "# lets check the average lifetime for both open and closed cases for each department\n",
    "(\n",
    "    case_df.groupBy('standardized_dept_name')\n",
    "     .pivot('case_status')\n",
    "    .agg(mean('case_lifetime'))\n",
    "     .orderBy('closed')\n",
    "    .toPandas()\n",
    "    .set_index('standardized_dept_name')\n",
    "    .plot.barh()\n",
    "\n",
    "\n",
    ")"
   ]
  },
  {
   "cell_type": "code",
   "execution_count": 63,
   "metadata": {},
   "outputs": [
    {
     "name": "stdout",
     "output_type": "stream",
     "text": [
      "-RECORD 0--------------------------------------\n",
      " source_id              | svcCRMLS             \n",
      " dept_division          | Field Operations     \n",
      " case_id                | 1014127332           \n",
      " case_opened_date       | 2018-01-01 00:42:00  \n",
      " case_closed_date       | 2018-01-01 12:29:00  \n",
      " case_due_date          | 2020-09-26 00:42:00  \n",
      " case_late              | false                \n",
      " num_days_late          | -998.5087616000001   \n",
      " case_closed            | true                 \n",
      " service_request_type   | Stray Animal         \n",
      " SLA_days               | 999.0                \n",
      " case_status            | Closed               \n",
      " request_address        | 2315  el paso st,... \n",
      " council_district       | 005                  \n",
      " zip_code               | 78207                \n",
      " case_age               | 219                  \n",
      " days_to_closed         | 0                    \n",
      " case_lifetime          | 0                    \n",
      " dept_name              | Animal Care Services \n",
      " standardized_dept_name | Animal Care Services \n",
      " dept_subject_to_SLA    | YES                  \n",
      " source_username        | svcCRMLS             \n",
      "-RECORD 1--------------------------------------\n",
      " source_id              | svcCRMSS             \n",
      " dept_division          | Storm Water          \n",
      " case_id                | 1014127333           \n",
      " case_opened_date       | 2018-01-01 00:46:00  \n",
      " case_closed_date       | 2018-01-03 08:11:00  \n",
      " case_due_date          | 2018-01-05 08:30:00  \n",
      " case_late              | false                \n",
      " num_days_late          | -2.0126041669999997  \n",
      " case_closed            | true                 \n",
      " service_request_type   | Removal Of Obstru... \n",
      " SLA_days               | 4.322222222          \n",
      " case_status            | Closed               \n",
      " request_address        | 2215  goliad rd, ... \n",
      " council_district       | 003                  \n",
      " zip_code               | 78223                \n",
      " case_age               | 219                  \n",
      " days_to_closed         | 2                    \n",
      " case_lifetime          | 2                    \n",
      " dept_name              | Trans & Cap Impro... \n",
      " standardized_dept_name | Trans & Cap Impro... \n",
      " dept_subject_to_SLA    | YES                  \n",
      " source_username        | svcCRMSS             \n",
      "-RECORD 2--------------------------------------\n",
      " source_id              | svcCRMSS             \n",
      " dept_division          | Storm Water          \n",
      " case_id                | 1014127334           \n",
      " case_opened_date       | 2018-01-01 00:48:00  \n",
      " case_closed_date       | 2018-01-02 07:57:00  \n",
      " case_due_date          | 2018-01-05 08:30:00  \n",
      " case_late              | false                \n",
      " num_days_late          | -3.022337963         \n",
      " case_closed            | true                 \n",
      " service_request_type   | Removal Of Obstru... \n",
      " SLA_days               | 4.320729167          \n",
      " case_status            | Closed               \n",
      " request_address        | 102  palfrey st w... \n",
      " council_district       | 003                  \n",
      " zip_code               | 78223                \n",
      " case_age               | 219                  \n",
      " days_to_closed         | 1                    \n",
      " case_lifetime          | 1                    \n",
      " dept_name              | Trans & Cap Impro... \n",
      " standardized_dept_name | Trans & Cap Impro... \n",
      " dept_subject_to_SLA    | YES                  \n",
      " source_username        | svcCRMSS             \n",
      "only showing top 3 rows\n",
      "\n"
     ]
    }
   ],
   "source": [
    "case_df.show(3, vertical = True)"
   ]
  },
  {
   "cell_type": "code",
   "execution_count": 65,
   "metadata": {},
   "outputs": [
    {
     "name": "stdout",
     "output_type": "stream",
     "text": [
      "+----------------------+------+\n",
      "|standardized_dept_name| count|\n",
      "+----------------------+------+\n",
      "|           Solid Waste|286287|\n",
      "|  Animal Care Services|119362|\n",
      "|  Trans & Cap Impro...| 97841|\n",
      "|    Parks & Recreation| 19964|\n",
      "|      Customer Service|  2889|\n",
      "|          Metro Health|  5313|\n",
      "|          City Council|    34|\n",
      "|  DSD/Code Enforcement|323579|\n",
      "+----------------------+------+\n",
      "\n"
     ]
    }
   ],
   "source": [
    "case_df.groupBy('standardized_dept_name').count().show()"
   ]
  },
  {
   "cell_type": "code",
   "execution_count": 75,
   "metadata": {},
   "outputs": [
    {
     "data": {
      "text/plain": [
       "false   true   \n",
       "297140  26439.0    0.142857\n",
       "252558  33729.0    0.142857\n",
       "95611   23751.0    0.142857\n",
       "92312   5529.0     0.142857\n",
       "16154   3810.0     0.142857\n",
       "4459    854.0      0.142857\n",
       "854     2035.0     0.142857\n",
       "dtype: float64"
      ]
     },
     "execution_count": 75,
     "metadata": {},
     "output_type": "execute_result"
    }
   ],
   "source": [
    "# working on it\n",
    "\n",
    "(case_df.groupBy('standardized_dept_name')\n",
    ".pivot('case_late')\n",
    " .count()\n",
    ".toPandas()\n",
    " .set_index('standardized_dept_name')\n",
    " \n",
    ")"
   ]
  },
  {
   "cell_type": "code",
   "execution_count": null,
   "metadata": {},
   "outputs": [],
   "source": []
  }
 ],
 "metadata": {
  "kernelspec": {
   "display_name": "Python 3",
   "language": "python",
   "name": "python3"
  },
  "language_info": {
   "codemirror_mode": {
    "name": "ipython",
    "version": 3
   },
   "file_extension": ".py",
   "mimetype": "text/x-python",
   "name": "python",
   "nbconvert_exporter": "python",
   "pygments_lexer": "ipython3",
   "version": "3.7.6"
  }
 },
 "nbformat": 4,
 "nbformat_minor": 4
}
