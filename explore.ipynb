{
 "cells": [
  {
   "cell_type": "code",
   "execution_count": 1,
   "metadata": {},
   "outputs": [],
   "source": [
    "import pyspark.sql\n",
    "from pyspark.sql.functions import *"
   ]
  },
  {
   "cell_type": "code",
   "execution_count": 2,
   "metadata": {},
   "outputs": [],
   "source": [
    "# firing up our spark session\n",
    "\n",
    "spark = pyspark.sql.SparkSession.builder.getOrCreate()"
   ]
  },
  {
   "cell_type": "markdown",
   "metadata": {},
   "source": [
    "**Getting all the data prep done before exploring**"
   ]
  },
  {
   "cell_type": "code",
   "execution_count": 3,
   "metadata": {},
   "outputs": [],
   "source": [
    "# reading the case data\n",
    "case_df = spark.read.csv('case.csv', header = True, inferSchema = True)\n",
    "\n",
    "# reading the department data\n",
    "department_df = spark.read.csv('dept.csv', header = True, inferSchema = True)\n",
    "\n",
    "\n",
    "# reading the source data\n",
    "source_df = spark.read.csv('source.csv', header = True, inferSchema = True)"
   ]
  },
  {
   "cell_type": "code",
   "execution_count": 4,
   "metadata": {},
   "outputs": [],
   "source": [
    "# to rename a column use the withColumnRenamed(col_to_rename, new_name)\n",
    "\n",
    "case_df = case_df.withColumnRenamed( 'SLA_due_date', 'case_due_date')"
   ]
  },
  {
   "cell_type": "code",
   "execution_count": 5,
   "metadata": {},
   "outputs": [],
   "source": [
    "# lets change the case late and case closed to boolean\n",
    "\n",
    "case_df = case_df.withColumn(\"case_late\", expr(\"case_late == 'YES'\"))\n",
    "\n",
    "case_df = case_df.withColumn(\"case_closed\", expr(\"case_closed == 'YES'\"))"
   ]
  },
  {
   "cell_type": "code",
   "execution_count": 6,
   "metadata": {},
   "outputs": [],
   "source": [
    "# lets change the date time format\n",
    "fmt = \"M/d/yy H:mm\"\n",
    "\n",
    "case_df = case_df.withColumn(\"case_opened_date\", to_timestamp(\"case_opened_date\", fmt))\n",
    "case_df = case_df.withColumn(\"case_closed_date\", to_timestamp(\"case_closed_date\", fmt))\n",
    "case_df = case_df.withColumn(\"case_due_date\", to_timestamp(\"case_due_date\", fmt))"
   ]
  },
  {
   "cell_type": "code",
   "execution_count": 7,
   "metadata": {},
   "outputs": [],
   "source": [
    "\n",
    "# formatting the address column\n",
    "case_df=case_df.withColumn('request_address', lower(trim('request_address')))"
   ]
  },
  {
   "cell_type": "code",
   "execution_count": 8,
   "metadata": {},
   "outputs": [],
   "source": [
    "# lets create a new column to hold the zipcode only\n",
    "\n",
    "case_df = case_df.withColumn('zip_code', regexp_extract('request_address', r\"(\\d+)$\", 1))"
   ]
  },
  {
   "cell_type": "code",
   "execution_count": 9,
   "metadata": {},
   "outputs": [],
   "source": [
    "\n",
    "# format the council district to hold 3 digits with padding\n",
    "case_df = case_df.withColumn(\"council_district\", format_string(\"%03d\", col(\"council_district\")))\n"
   ]
  },
  {
   "cell_type": "code",
   "execution_count": 10,
   "metadata": {},
   "outputs": [],
   "source": [
    "\n",
    "# create columns case_age, days_to_close, and case_lifetime\n",
    "\n",
    "# create a case age column whihc is the difference in time between the current date and the date the case was opened\n",
    "case_df = case_df.withColumn(\"case_age\", datediff(current_timestamp(), \"case_opened_date\"))\n",
    "\n",
    "# create days to close which is the difference in time between the day case was opened and the day the case was closed\n",
    "case_df = case_df.withColumn(\"days_to_close\", datediff(\"case_closed_date\", \"case_opened_date\"))\n",
    "\n",
    "\n",
    "# case_lifetime column is created by:\n",
    "    # if the case is closed, this column holds the value from days_to_close columns\n",
    "    # if the case in not closed, this column holds the value of case age\n",
    "case_df = case_df.withColumn(\"case_lifetime\", when(col(\"case_closed\"), col(\"days_to_close\")).otherwise(col(\"case_age\")))"
   ]
  },
  {
   "cell_type": "code",
   "execution_count": 11,
   "metadata": {},
   "outputs": [],
   "source": [
    "case_df = case_df.join(department_df,'dept_division', 'left' )"
   ]
  },
  {
   "cell_type": "code",
   "execution_count": 12,
   "metadata": {},
   "outputs": [],
   "source": [
    "case_df = case_df.join(source_df, 'source_id', 'left')"
   ]
  },
  {
   "cell_type": "markdown",
   "metadata": {},
   "source": [
    "## Exploration"
   ]
  },
  {
   "cell_type": "code",
   "execution_count": 13,
   "metadata": {},
   "outputs": [],
   "source": [
    "import warnings\n",
    "\n",
    "warnings.filterwarnings(\"ignore\")\n",
    "\n",
    "import numpy as np\n",
    "import pandas as pd\n",
    "\n",
    "import matplotlib.pyplot as plt\n",
    "import seaborn as sns"
   ]
  },
  {
   "cell_type": "code",
   "execution_count": 14,
   "metadata": {},
   "outputs": [
    {
     "name": "stdout",
     "output_type": "stream",
     "text": [
      "-RECORD 0--------------------------------------\n",
      " source_id              | svcCRMLS             \n",
      " dept_division          | Field Operations     \n",
      " case_id                | 1014127332           \n",
      " case_opened_date       | 2018-01-01 00:42:00  \n",
      " case_closed_date       | 2018-01-01 12:29:00  \n",
      " case_due_date          | 2020-09-26 00:42:00  \n",
      " case_late              | false                \n",
      " num_days_late          | -998.5087616000001   \n",
      " case_closed            | true                 \n",
      " service_request_type   | Stray Animal         \n",
      " SLA_days               | 999.0                \n",
      " case_status            | Closed               \n",
      " request_address        | 2315  el paso st,... \n",
      " council_district       | 005                  \n",
      " zip_code               | 78207                \n",
      " case_age               | 1065                 \n",
      " days_to_close          | 0                    \n",
      " case_lifetime          | 0                    \n",
      " dept_name              | Animal Care Services \n",
      " standardized_dept_name | Animal Care Services \n",
      " dept_subject_to_SLA    | YES                  \n",
      " source_username        | svcCRMLS             \n",
      "only showing top 1 row\n",
      "\n"
     ]
    }
   ],
   "source": [
    "case_df.show(1, vertical = True)"
   ]
  },
  {
   "cell_type": "code",
   "execution_count": null,
   "metadata": {},
   "outputs": [],
   "source": []
  }
 ],
 "metadata": {
  "kernelspec": {
   "display_name": "Python 3",
   "language": "python",
   "name": "python3"
  },
  "language_info": {
   "codemirror_mode": {
    "name": "ipython",
    "version": 3
   },
   "file_extension": ".py",
   "mimetype": "text/x-python",
   "name": "python",
   "nbconvert_exporter": "python",
   "pygments_lexer": "ipython3",
   "version": "3.7.6"
  }
 },
 "nbformat": 4,
 "nbformat_minor": 4
}
